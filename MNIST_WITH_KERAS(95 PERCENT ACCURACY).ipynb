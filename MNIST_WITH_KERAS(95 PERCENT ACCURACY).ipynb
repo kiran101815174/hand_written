{
  "nbformat": 4,
  "nbformat_minor": 0,
  "metadata": {
    "colab": {
      "name": "Untitled1.ipynb",
      "provenance": [],
      "authorship_tag": "ABX9TyPKms2hvcpw4+SqKWwVgzgc",
      "include_colab_link": true
    },
    "kernelspec": {
      "name": "python3",
      "display_name": "Python 3"
    }
  },
  "cells": [
    {
      "cell_type": "markdown",
      "metadata": {
        "id": "view-in-github",
        "colab_type": "text"
      },
      "source": [
        "<a href=\"https://colab.research.google.com/github/kiran101815174/hand_written/blob/master/MNIST_WITH_KERAS(95%20PERCENT%20ACCURACY).ipynb\" target=\"_parent\"><img src=\"https://colab.research.google.com/assets/colab-badge.svg\" alt=\"Open In Colab\"/></a>"
      ]
    },
    {
      "cell_type": "code",
      "metadata": {
        "id": "L1U3XskAF_V6",
        "colab_type": "code",
        "colab": {}
      },
      "source": [
        "import tensorflow as tf\n",
        "from tensorflow import keras\n",
        "import numpy as np\n",
        "import mnist"
      ],
      "execution_count": 5,
      "outputs": []
    },
    {
      "cell_type": "code",
      "metadata": {
        "id": "Eycfito6b18X",
        "colab_type": "code",
        "colab": {}
      },
      "source": [
        "train=  mnist.train_images()/255\n",
        "train_labels= mnist.train_labels()\n",
        "test= mnist.test_images()/255\n",
        "test_labels=mnist.test_labels()\n"
      ],
      "execution_count": 51,
      "outputs": []
    },
    {
      "cell_type": "code",
      "metadata": {
        "id": "jUrBhXVPRbac",
        "colab_type": "code",
        "colab": {
          "base_uri": "https://localhost:8080/",
          "height": 34
        },
        "outputId": "0ae5c3cf-dbd5-4489-d5c2-7c2c514ac733"
      },
      "source": [
        "train[0].dtype"
      ],
      "execution_count": 38,
      "outputs": [
        {
          "output_type": "execute_result",
          "data": {
            "text/plain": [
              "dtype('float64')"
            ]
          },
          "metadata": {
            "tags": []
          },
          "execution_count": 38
        }
      ]
    },
    {
      "cell_type": "code",
      "metadata": {
        "id": "1t0d6tHTOFeW",
        "colab_type": "code",
        "colab": {
          "base_uri": "https://localhost:8080/",
          "height": 34
        },
        "outputId": "607dc749-3e36-4c20-9319-865e97ab11b9"
      },
      "source": [
        "train_labels[:10]"
      ],
      "execution_count": 25,
      "outputs": [
        {
          "output_type": "execute_result",
          "data": {
            "text/plain": [
              "array([5, 0, 4, 1, 9, 2, 1, 3, 1, 4], dtype=uint8)"
            ]
          },
          "metadata": {
            "tags": []
          },
          "execution_count": 25
        }
      ]
    },
    {
      "cell_type": "code",
      "metadata": {
        "id": "OCIDTJR4NECj",
        "colab_type": "code",
        "colab": {}
      },
      "source": [
        "def one_hot(labels):\n",
        "  train_labels_one_hot=[]\n",
        "  for j in labels:\n",
        "    k=labels[j]\n",
        "    e=[0]*10\n",
        "    e[k]=1\n",
        "    train_labels_one_hot.append(e)\n",
        "  return train_labels_one_hot  \n",
        "train_labels_one_hot=one_hot(train_labels)\n",
        "test_labels_one_hot=one_hot(test_labels)  \n"
      ],
      "execution_count": 34,
      "outputs": []
    },
    {
      "cell_type": "code",
      "metadata": {
        "id": "Da8RGhUwQCv5",
        "colab_type": "code",
        "colab": {
          "base_uri": "https://localhost:8080/",
          "height": 34
        },
        "outputId": "0acfd770-04a8-455d-8564-403970be5740"
      },
      "source": [
        "train_labels_one_hot[0]"
      ],
      "execution_count": 35,
      "outputs": [
        {
          "output_type": "execute_result",
          "data": {
            "text/plain": [
              "[0, 0, 1, 0, 0, 0, 0, 0, 0, 0]"
            ]
          },
          "metadata": {
            "tags": []
          },
          "execution_count": 35
        }
      ]
    },
    {
      "cell_type": "code",
      "metadata": {
        "id": "7rBcufVRFB5Y",
        "colab_type": "code",
        "colab": {}
      },
      "source": [
        "model=keras.Sequential([\n",
        "    keras.layers.Flatten(input_shape=(28,28)),\n",
        "    keras.layers.Dense(128,activation='sigmoid'),\n",
        "    keras.layers.Dense(10,activation='softmax')     \n",
        "])"
      ],
      "execution_count": 43,
      "outputs": []
    },
    {
      "cell_type": "code",
      "metadata": {
        "id": "NY_Wn5BUI9Eg",
        "colab_type": "code",
        "colab": {}
      },
      "source": [
        "model.compile(optimizer='SGD',loss='sparse_categorical_crossentropy',metrics=['accuracy'])"
      ],
      "execution_count": 48,
      "outputs": []
    },
    {
      "cell_type": "code",
      "metadata": {
        "id": "kJOhHC9aLy65",
        "colab_type": "code",
        "colab": {
          "base_uri": "https://localhost:8080/",
          "height": 1000
        },
        "outputId": "2a076656-152c-4ae3-f017-24bbcc510f00"
      },
      "source": [
        "model.fit(train,train_labels,epochs=30,batch_size=10)"
      ],
      "execution_count": 49,
      "outputs": [
        {
          "output_type": "stream",
          "text": [
            "Epoch 1/30\n",
            "6000/6000 [==============================] - 7s 1ms/step - loss: 0.8691 - accuracy: 0.8023\n",
            "Epoch 2/30\n",
            "6000/6000 [==============================] - 7s 1ms/step - loss: 0.4080 - accuracy: 0.8902\n",
            "Epoch 3/30\n",
            "6000/6000 [==============================] - 8s 1ms/step - loss: 0.3455 - accuracy: 0.9021\n",
            "Epoch 4/30\n",
            "6000/6000 [==============================] - 7s 1ms/step - loss: 0.3160 - accuracy: 0.9099\n",
            "Epoch 5/30\n",
            "6000/6000 [==============================] - 7s 1ms/step - loss: 0.2966 - accuracy: 0.9154\n",
            "Epoch 6/30\n",
            "6000/6000 [==============================] - 7s 1ms/step - loss: 0.2811 - accuracy: 0.9192\n",
            "Epoch 7/30\n",
            "6000/6000 [==============================] - 7s 1ms/step - loss: 0.2680 - accuracy: 0.9233\n",
            "Epoch 8/30\n",
            "6000/6000 [==============================] - 7s 1ms/step - loss: 0.2562 - accuracy: 0.9264\n",
            "Epoch 9/30\n",
            "6000/6000 [==============================] - 7s 1ms/step - loss: 0.2453 - accuracy: 0.9291\n",
            "Epoch 10/30\n",
            "6000/6000 [==============================] - 7s 1ms/step - loss: 0.2351 - accuracy: 0.9328\n",
            "Epoch 11/30\n",
            "6000/6000 [==============================] - 7s 1ms/step - loss: 0.2259 - accuracy: 0.9351\n",
            "Epoch 12/30\n",
            "6000/6000 [==============================] - 8s 1ms/step - loss: 0.2172 - accuracy: 0.9377\n",
            "Epoch 13/30\n",
            "6000/6000 [==============================] - 7s 1ms/step - loss: 0.2092 - accuracy: 0.9402\n",
            "Epoch 14/30\n",
            "6000/6000 [==============================] - 8s 1ms/step - loss: 0.2018 - accuracy: 0.9428\n",
            "Epoch 15/30\n",
            "6000/6000 [==============================] - 8s 1ms/step - loss: 0.1947 - accuracy: 0.9443\n",
            "Epoch 16/30\n",
            "6000/6000 [==============================] - 8s 1ms/step - loss: 0.1883 - accuracy: 0.9466\n",
            "Epoch 17/30\n",
            "6000/6000 [==============================] - 8s 1ms/step - loss: 0.1821 - accuracy: 0.9482\n",
            "Epoch 18/30\n",
            "6000/6000 [==============================] - 8s 1ms/step - loss: 0.1768 - accuracy: 0.9496\n",
            "Epoch 19/30\n",
            "6000/6000 [==============================] - 7s 1ms/step - loss: 0.1715 - accuracy: 0.9510\n",
            "Epoch 20/30\n",
            "6000/6000 [==============================] - 8s 1ms/step - loss: 0.1664 - accuracy: 0.9526\n",
            "Epoch 21/30\n",
            "6000/6000 [==============================] - 8s 1ms/step - loss: 0.1618 - accuracy: 0.9540\n",
            "Epoch 22/30\n",
            "6000/6000 [==============================] - 7s 1ms/step - loss: 0.1573 - accuracy: 0.9552\n",
            "Epoch 23/30\n",
            "6000/6000 [==============================] - 8s 1ms/step - loss: 0.1531 - accuracy: 0.9567\n",
            "Epoch 24/30\n",
            "6000/6000 [==============================] - 7s 1ms/step - loss: 0.1491 - accuracy: 0.9575\n",
            "Epoch 25/30\n",
            "6000/6000 [==============================] - 7s 1ms/step - loss: 0.1454 - accuracy: 0.9587\n",
            "Epoch 26/30\n",
            "6000/6000 [==============================] - 7s 1ms/step - loss: 0.1416 - accuracy: 0.9596\n",
            "Epoch 27/30\n",
            "6000/6000 [==============================] - 8s 1ms/step - loss: 0.1382 - accuracy: 0.9607\n",
            "Epoch 28/30\n",
            "6000/6000 [==============================] - 7s 1ms/step - loss: 0.1348 - accuracy: 0.9620\n",
            "Epoch 29/30\n",
            "6000/6000 [==============================] - 8s 1ms/step - loss: 0.1317 - accuracy: 0.9626\n",
            "Epoch 30/30\n",
            "6000/6000 [==============================] - 7s 1ms/step - loss: 0.1288 - accuracy: 0.9630\n"
          ],
          "name": "stdout"
        },
        {
          "output_type": "execute_result",
          "data": {
            "text/plain": [
              "<tensorflow.python.keras.callbacks.History at 0x7f93add87ef0>"
            ]
          },
          "metadata": {
            "tags": []
          },
          "execution_count": 49
        }
      ]
    },
    {
      "cell_type": "code",
      "metadata": {
        "id": "2qDPzJvfT46A",
        "colab_type": "code",
        "colab": {
          "base_uri": "https://localhost:8080/",
          "height": 34
        },
        "outputId": "b7485e5b-f60b-4d67-97c5-f84a3c079d82"
      },
      "source": [
        "test_loss, test_acc = model.evaluate(test,test_labels, verbose=1) "
      ],
      "execution_count": 52,
      "outputs": [
        {
          "output_type": "stream",
          "text": [
            "313/313 [==============================] - 0s 1ms/step - loss: 0.1356 - accuracy: 0.9593\n"
          ],
          "name": "stdout"
        }
      ]
    }
  ]
}