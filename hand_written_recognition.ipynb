{
 "cells": [
  {
   "cell_type": "code",
   "execution_count": 1,
   "metadata": {},
   "outputs": [],
   "source": [
    "import mnist\n"
   ]
  },
  {
   "cell_type": "code",
   "execution_count": 28,
   "metadata": {},
   "outputs": [],
   "source": [
    "training_data=[(np.reshape(x,(784,1)),y)for x,y in zip(mnist.train_images(),mnist.train_labels())]"
   ]
  },
  {
   "cell_type": "code",
   "execution_count": 30,
   "metadata": {},
   "outputs": [],
   "source": [
    "test_data=[(np.reshape(x,(784,1)),y) for x,y in zip(mnist.test_images(),mnist.test_labels())]"
   ]
  },
  {
   "cell_type": "code",
   "execution_count": 7,
   "metadata": {},
   "outputs": [],
   "source": [
    "import random \n",
    "import numpy as np\n"
   ]
  },
  {
   "cell_type": "code",
   "execution_count": 42,
   "metadata": {},
   "outputs": [],
   "source": [
    "class hand_written:\n",
    "    def __init__(self,size):\n",
    "        self.num_layers=len(size)\n",
    "        self.sizes=size\n",
    "        self.biases=[np.random.randn(y,1) for y in size[1:]]  #initializing bias (b) matrices\n",
    "        self.weights=[np.random.randn(x,y) for x,y in zip(size[1:],size[:-1])] #initializing weigths for all the connections\n",
    "    def feedforward(self,a):\n",
    "        for b,w  in zip(self.biases,self.weights):\n",
    "            a=sigmoid(np.matmul(w,a)+b)\n",
    "        return a \n",
    "    def gradient(self,training_data,epoch,eda,mini_batch_size,test_data=None):\n",
    "        if test_data:\n",
    "            n_test=len(test_data)\n",
    "        n=len(training_data)\n",
    "        for j in range(epoch):\n",
    "            random.shuffle(training_data)\n",
    "            mini_batches=[training_data[k:k+mini_batch_size] for k in range(0,n,mini_batch_size)]\n",
    "            for mini_batch in mini_batches:\n",
    "                self.update_mini_batches(mini_batch,eda)\n",
    "            if test_data:\n",
    "                print('epoch{}:{}/{}'.format(j,self.evaluate(test_data), n_test))\n",
    "            else:\n",
    "                print('epoch{} complete'.format(j))\n",
    "    def update_mini_batches(self,mini_batch,eda):\n",
    "        nabla_b=[np.zeros(b.shape) for b in self.biases]\n",
    "        nabla_w=[np.zeros(w.shape) for w in self.weights]\n",
    "        for x,y in mini_batch: \n",
    "            delta_b,delta_w=self.backprop(x,y)\n",
    "            nabla_b=[nb+dnb for nb,dnb in zip(nabla_b,delta_b)]\n",
    "            nabla_w=[nw+dnw for nw,dnw in zip(nabla_w,delta_w)]\n",
    "        self.weights=[w-eda/len(mini_batch)*dw for w,dw in zip(self.weights,nabla_w)]\n",
    "        self.biases=[b-eda/len(mini_batch)*db for b,db in zip(self.biases,nabla_b)]\n",
    "    def backprop(self,x,y):\n",
    "        nabla_b = [np.zeros(b.shape) for b in self.biases]\n",
    "        nabla_w = [np.zeros(w.shape) for w in self.weights]\n",
    "        # feedforward\n",
    "        activation = x\n",
    "        activations = [x] # list to store all the activations, layer by layer\n",
    "        zs = [] # list to store all the z vectors, layer by layer\n",
    "        for b, w in zip(self.biases, self.weights):\n",
    "            z = np.dot(w, activation)+b\n",
    "            zs.append(z)\n",
    "            activation = sigmoid(z)\n",
    "            activations.append(activation)\n",
    "        # backward pass\n",
    "        delta = self.cost_derivative(activations[-1], y) * \\\n",
    "            sigmoid_prime(zs[-1])\n",
    "        nabla_b[-1] = delta\n",
    "        nabla_w[-1] = np.dot(delta, activations[-2].transpose())\n",
    "        # Note that the variable l in the loop below is used a little\n",
    "        # differently to the notation in Chapter 2 of the book.  Here,\n",
    "        # l = 1 means the last layer of neurons, l = 2 is the\n",
    "        # second-last layer, and so on.  It's a renumbering of the\n",
    "        # scheme in the book, used here to take advantage of the fact\n",
    "        # that Python can use negative indices in lists.\n",
    "        for l in range(2, self.num_layers):\n",
    "            z = zs[-l]\n",
    "            sp = sigmoid_prime(z)\n",
    "            delta = np.dot(self.weights[-l+1].transpose(), delta) * sp\n",
    "            nabla_b[-l] = delta\n",
    "            nabla_w[-l] = np.dot(delta, activations[-l-1].transpose())\n",
    "        return (nabla_b, nabla_w)\n",
    "    def evaluate(self, test_data):\n",
    "        \"\"\"Return the number of test inputs for which the neural\n",
    "        network outputs the correct result. Note that the neural\n",
    "        network's output is assumed to be the index of whichever\n",
    "        neuron in the final layer has the highest activation.\"\"\"\n",
    "        test_results = [(np.argmax(self.feedforward(x)), y)\n",
    "                        for (x, y) in test_data]\n",
    "        return sum(int(x == y) for (x, y) in test_results)\n",
    "\n",
    "    def cost_derivative(self, output_activations, y):\n",
    "        \"\"\"Return the vector of partial derivatives \\partial C_x /\n",
    "        \\partial a for the output activations.\"\"\"\n",
    "        return (output_activations-y)\n",
    "\n",
    "#### Miscellaneous functions\n",
    "def sigmoid(z):\n",
    "    \"\"\"The sigmoid function.\"\"\"\n",
    "    return 1.0/(1.0+np.exp(-z))\n",
    "\n",
    "def sigmoid_prime(z):\n",
    "    \"\"\"Derivative of the sigmoid function.\"\"\"\n",
    "    return sigmoid(z)*(1-sigmoid(z))\n",
    "\n"
   ]
  },
  {
   "cell_type": "code",
   "execution_count": 43,
   "metadata": {},
   "outputs": [
    {
     "name": "stdout",
     "output_type": "stream",
     "text": [
      "epoch0:1029/10000\n",
      "epoch1:1028/10000\n",
      "epoch2:1028/10000\n",
      "epoch3:1028/10000\n",
      "epoch4:1028/10000\n",
      "epoch5:1028/10000\n",
      "epoch6:1028/10000\n",
      "epoch7:1028/10000\n",
      "epoch8:1028/10000\n",
      "epoch9:1027/10000\n",
      "epoch10:1027/10000\n",
      "epoch11:1027/10000\n",
      "epoch12:1027/10000\n",
      "epoch13:1027/10000\n",
      "epoch14:1027/10000\n",
      "epoch15:1027/10000\n",
      "epoch16:1027/10000\n",
      "epoch17:1027/10000\n",
      "epoch18:1027/10000\n",
      "epoch19:1027/10000\n",
      "epoch20:1027/10000\n",
      "epoch21:1027/10000\n",
      "epoch22:1027/10000\n",
      "epoch23:1027/10000\n",
      "epoch24:1027/10000\n",
      "epoch25:1027/10000\n",
      "epoch26:1027/10000\n",
      "epoch27:1027/10000\n",
      "epoch28:1027/10000\n",
      "epoch29:1027/10000\n"
     ]
    }
   ],
   "source": [
    "net = hand_written([784, 30, 10])\n",
    "net.gradient(training_data, 30,3.0,10, test_data=test_data)\n"
   ]
  },
  {
   "cell_type": "code",
   "execution_count": null,
   "metadata": {},
   "outputs": [],
   "source": []
  }
 ],
 "metadata": {
  "kernelspec": {
   "display_name": "Python 3",
   "language": "python",
   "name": "python3"
  },
  "language_info": {
   "codemirror_mode": {
    "name": "ipython",
    "version": 3
   },
   "file_extension": ".py",
   "mimetype": "text/x-python",
   "name": "python",
   "nbconvert_exporter": "python",
   "pygments_lexer": "ipython3",
   "version": "3.7.4"
  }
 },
 "nbformat": 4,
 "nbformat_minor": 2
}
